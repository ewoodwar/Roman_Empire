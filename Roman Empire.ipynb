{
 "cells": [
  {
   "cell_type": "code",
   "execution_count": 7,
   "metadata": {},
   "outputs": [
    {
     "ename": "TypeError",
     "evalue": "unsupported operand type(s) for *: 'float' and 'UndefinedFunction'",
     "output_type": "error",
     "traceback": [
      "\u001b[1;31m---------------------------------------------------------------------------\u001b[0m",
      "\u001b[1;31mTypeError\u001b[0m                                 Traceback (most recent call last)",
      "\u001b[1;32m<ipython-input-7-8e36d301da16>\u001b[0m in \u001b[0;36m<module>\u001b[1;34m\u001b[0m\n\u001b[0;32m     18\u001b[0m \u001b[1;31m#N4 = Function(\"N4\")\u001b[0m\u001b[1;33m\u001b[0m\u001b[1;33m\u001b[0m\u001b[1;33m\u001b[0m\u001b[0m\n\u001b[0;32m     19\u001b[0m \u001b[1;33m\u001b[0m\u001b[0m\n\u001b[1;32m---> 20\u001b[1;33m \u001b[0mItaly\u001b[0m \u001b[1;33m=\u001b[0m \u001b[0mEq\u001b[0m\u001b[1;33m(\u001b[0m\u001b[0mdiff\u001b[0m\u001b[1;33m(\u001b[0m\u001b[0mN1\u001b[0m\u001b[1;33m(\u001b[0m\u001b[0mt\u001b[0m\u001b[1;33m)\u001b[0m\u001b[1;33m,\u001b[0m \u001b[0mt\u001b[0m\u001b[1;33m)\u001b[0m\u001b[1;33m,\u001b[0m \u001b[0mr\u001b[0m  \u001b[1;33m*\u001b[0m \u001b[1;33m(\u001b[0m\u001b[1;33m(\u001b[0m\u001b[1;36m1\u001b[0m \u001b[1;33m-\u001b[0m \u001b[1;33m(\u001b[0m\u001b[0mN1\u001b[0m\u001b[1;33m(\u001b[0m\u001b[0mt\u001b[0m\u001b[1;33m)\u001b[0m\u001b[1;33m/\u001b[0m\u001b[0mk1\u001b[0m\u001b[1;33m)\u001b[0m\u001b[1;33m)\u001b[0m \u001b[1;33m*\u001b[0m \u001b[0mN1\u001b[0m\u001b[1;33m(\u001b[0m\u001b[0mt\u001b[0m\u001b[1;33m)\u001b[0m\u001b[1;33m)\u001b[0m \u001b[1;33m-\u001b[0m \u001b[0mN1\u001b[0m\u001b[1;33m(\u001b[0m\u001b[0mt\u001b[0m\u001b[1;33m)\u001b[0m \u001b[1;33m*\u001b[0m\u001b[1;33m(\u001b[0m\u001b[0ma12\u001b[0m\u001b[1;33m-\u001b[0m\u001b[0ma13\u001b[0m\u001b[1;33m-\u001b[0m\u001b[0ma14\u001b[0m\u001b[1;33m)\u001b[0m\u001b[1;33m+\u001b[0m \u001b[0ma41\u001b[0m\u001b[1;33m*\u001b[0m\u001b[0mN4\u001b[0m \u001b[1;33m+\u001b[0m \u001b[0ma31\u001b[0m\u001b[1;33m*\u001b[0m\u001b[0mN3\u001b[0m\u001b[1;33m+\u001b[0m \u001b[0ma21\u001b[0m\u001b[1;33m*\u001b[0m\u001b[0mN1\u001b[0m\u001b[1;33m)\u001b[0m\u001b[1;33m\u001b[0m\u001b[1;33m\u001b[0m\u001b[0m\n\u001b[0m\u001b[0;32m     21\u001b[0m \u001b[1;33m\u001b[0m\u001b[0m\n\u001b[0;32m     22\u001b[0m \u001b[0mEast\u001b[0m \u001b[1;33m=\u001b[0m \u001b[0mEq\u001b[0m\u001b[1;33m(\u001b[0m\u001b[0mdiff\u001b[0m\u001b[1;33m(\u001b[0m\u001b[0mN2\u001b[0m\u001b[1;33m(\u001b[0m\u001b[0mt\u001b[0m\u001b[1;33m)\u001b[0m\u001b[1;33m,\u001b[0m \u001b[0mt\u001b[0m\u001b[1;33m)\u001b[0m\u001b[1;33m,\u001b[0m \u001b[0mr\u001b[0m  \u001b[1;33m*\u001b[0m \u001b[1;33m(\u001b[0m\u001b[1;33m(\u001b[0m\u001b[1;36m1\u001b[0m \u001b[1;33m-\u001b[0m \u001b[1;33m(\u001b[0m\u001b[0mN2\u001b[0m\u001b[1;33m(\u001b[0m\u001b[0mt\u001b[0m\u001b[1;33m)\u001b[0m\u001b[1;33m/\u001b[0m\u001b[0mk2\u001b[0m\u001b[1;33m)\u001b[0m\u001b[1;33m)\u001b[0m\u001b[1;33m*\u001b[0m\u001b[0mN2\u001b[0m\u001b[1;33m(\u001b[0m\u001b[0mt\u001b[0m\u001b[1;33m)\u001b[0m\u001b[1;33m)\u001b[0m \u001b[1;33m-\u001b[0m \u001b[0ma21\u001b[0m\u001b[1;33m*\u001b[0m\u001b[0mN2\u001b[0m\u001b[1;33m(\u001b[0m\u001b[0mt\u001b[0m\u001b[1;33m)\u001b[0m \u001b[1;33m+\u001b[0m \u001b[0ma12\u001b[0m\u001b[1;33m*\u001b[0m\u001b[0mN1\u001b[0m\u001b[1;33m(\u001b[0m\u001b[0mt\u001b[0m\u001b[1;33m)\u001b[0m\u001b[1;33m)\u001b[0m\u001b[1;33m\u001b[0m\u001b[1;33m\u001b[0m\u001b[0m\n",
      "\u001b[1;31mTypeError\u001b[0m: unsupported operand type(s) for *: 'float' and 'UndefinedFunction'"
     ]
    }
   ],
   "source": [
    "from sympy import *\n",
    "import numpy as np\n",
    "import matplotlib.pyplot as plt\n",
    "\n",
    "##t, r, k1, k2, k3, k4, a12, a21, a13, a31, a14, a41 = symbols(\"t, r, k1, k2, k3, k4, a12, a21, a13, a31, a14, a41 \") %run code symbollically\n",
    "\n",
    "t=symbols('t')\n",
    "r=0.9\n",
    "k1=1\n",
    "k2=1\n",
    "k3=1\n",
    "k4=1\n",
    "a12 = a21 = a13 = a31 = a14 = a41=0.9\n",
    "\n",
    "#N1 = Function(\"N1\")\n",
    "#N2 = Function(\"N2\")\n",
    "#N3 = Function(\"N3\")\n",
    "#N4 = Function(\"N4\")\n",
    "\n",
    "Italy = Eq(diff(N1(t), t), r  * ((1 - (N1(t)/k1)) * N1(t)) - N1(t) *(a12-a13-a14)+ a41*N4 + a31*N3+ a21*N1)\n",
    "\n",
    "East = Eq(diff(N2(t), t), r  * ((1 - (N2(t)/k2))*N2(t)) - a21*N2(t) + a12*N1(t))\n",
    "\n",
    "South = Eq(diff(N3(t), t), r  * ((1 - (N3(t)/k3)) *N3(t)) - a31*N3(t) + a13*N1(t))\n",
    "\n",
    "North = Eq(diff(N4(t), t), r  * ((1 - (N4(t)/k4)) *N3(t)) - a41*N4(t) + a14*N1(t))\n",
    "\n",
    "\n",
    "solution= dsolve([Italy,East,South,North], [N1(t), N2(t), N3(t), N4(t)])\n",
    "solution\n"
   ]
  },
  {
   "cell_type": "code",
   "execution_count": null,
   "metadata": {},
   "outputs": [],
   "source": [
    "#Finding the Equilibrium Values\n",
    "Equilibrium= nonlinsolve([Italy,East,South,North], [N1(t), N2(t), N3(t), N4(t)])\n",
    "display(Equilibrium)\n",
    "\n",
    "eq_list = list(Equilibrium)\n",
    "print(eq_list)\n",
    "\n",
    "\n",
    "# This code only finds the 0,0 equlibrium, which is trivial\n"
   ]
  },
  {
   "cell_type": "code",
   "execution_count": null,
   "metadata": {},
   "outputs": [],
   "source": [
    "\n",
    "#Finding the Nullcline Polynomial- Regular System\n",
    "\n",
    "y_exp= (r * ((x(t)/a1) - 1) * (1 - (x(t)/k)) * x(t) - m12 * x(t))/(-m21)\n",
    "exp = r * ((y(t)/a2) - 1) * (1 - (y(t)/k)) * y(t) + m12 * x(t) - m21 * y(t)\n",
    "res_exp = exp.subs(y(t), y_exp) \n",
    "\n",
    "#Simplifying the expression\n",
    "res_exp_1 = simplify(res_exp)\n",
    "display(res_exp)\n",
    "display(res_exp_1)"
   ]
  },
  {
   "cell_type": "code",
   "execution_count": null,
   "metadata": {},
   "outputs": [],
   "source": [
    "#Finding the Nullcline Polynomial- Non dimensional system\n",
    "#r=1\n",
    "#k=1\n",
    "\n",
    "from sympy import *\n",
    "y_exp_1= ((((x(t)/a1) - 1) * (1 - x(t)) * x(t)) + m* x(t))/(-m)\n",
    "exp_1 = ((y(t)/a2) - 1) * (1 - y(t)) * y(t) + m * (x(t) - y(t))\n",
    "res_exp_1 = exp_1.subs(y(t), y_exp_1) \n",
    "\n",
    "#Simplifying the expression\n",
    "res_exp_2 = simplify(res_exp_1)\n",
    "res_exp_3= res_exp_2/x(t)\n",
    "\n",
    "display(res_exp_3)"
   ]
  },
  {
   "cell_type": "code",
   "execution_count": null,
   "metadata": {},
   "outputs": [],
   "source": [
    "#Finding the Zeros of the Nullcline Polynomial (in order to find equilibrium points)\n",
    "\n",
    "#expand\n",
    "exp_simp = expand(res_exp) #expanding into polynomial form so it fits into np.roots\n",
    "display(exp_simp)"
   ]
  },
  {
   "cell_type": "code",
   "execution_count": null,
   "metadata": {},
   "outputs": [],
   "source": [
    "#Finding the Zeros of the Nullcline Polynomial (in order to find equilibrium points)\n",
    "#Nondimensional system\n",
    "\n",
    "#expand\n",
    "exp_simp_2 = expand(res_exp_3) #expanding into polynomial form so it fits into np.roots\n",
    "#display(exp_simp_2)\n",
    "\n",
    "a=Poly(exp_simp_2,x(t))\n",
    "coe= a.all_coeffs()\n",
    "coe_1= np.array(coe)\n",
    "display(exp_simp_2)"
   ]
  },
  {
   "cell_type": "code",
   "execution_count": null,
   "metadata": {},
   "outputs": [],
   "source": [
    "#Finding the roots of the polynomial\n",
    "a1 = float(input('Measure of Allee Effect in the first population, (a1<k)?'))\n",
    "a2 = float(input('Measure of Allee Effect in the second population (a2<k)?'))\n",
    "m = float(input('Migration rate from Patch 1 to Patch 2 (proportion))?'))\n",
    "\n",
    "\n",
    "y_exp_trial= ((((x(t)/0.5) - 1) * (1 - x(t)) * x(t)) + 0.5* x(t))/(-0.5)\n",
    "exp_trial = ((y(t)/0.5) - 1) * (1 - y(t)) * y(t) + 0.5 * (x(t) - y(t))\n",
    "res_exp_trial = exp_trial.subs(y(t), y_exp_trial) \n",
    "\n",
    "\n",
    "Equilib_pts = nroots(res_exp_trial)\n",
    "display(Equilib_pts)\n",
    "\n",
    "#This code displays the equilibrium points of any parameters you choose to include"
   ]
  },
  {
   "cell_type": "code",
   "execution_count": null,
   "metadata": {},
   "outputs": [],
   "source": [
    "#Finding the Jacobian \n",
    "Jacobian = Matrix(\n",
    "    [\n",
    "    [diff(DS1, x(t)), diff(DS1, y(t))], \n",
    "    [diff(DS2, x(t)), diff(DS2, y(t))]\n",
    "    ])\n",
    "Jacobian"
   ]
  },
  {
   "cell_type": "code",
   "execution_count": null,
   "metadata": {},
   "outputs": [],
   "source": [
    "#Jacobian matrix with (0,0) substituted in\n",
    "Jac_1 = simplify(Jacobian.subs({x(t) : eq_list[0][0], y(t) : eq_list[0][1]}))\n",
    "Jac_1"
   ]
  },
  {
   "cell_type": "code",
   "execution_count": null,
   "metadata": {},
   "outputs": [],
   "source": [
    "#Calculating the Jacobian for each of the equilibrium values. \n",
    "for i in eq_list: \n",
    "    Jac = simplify(Jacobian.subs({x(t) : i[0], y(t) : i[1]}))\n",
    "    display(Jac)\n",
    "    stabil= det(Jac)\n",
    "    display(stabil)"
   ]
  },
  {
   "cell_type": "code",
   "execution_count": null,
   "metadata": {},
   "outputs": [],
   "source": [
    "#Phase Plane Portraits \n",
    "\n",
    "\n",
    "def f(Y, t):\n",
    "    x, y = Y\n",
    "    return [((x/3) - 1) * (1 - x) * x + 0.4* (y-x), ((y/0.5) - 1) * (1 - y) * y + 0.5 * (x-y)]\n",
    "\n",
    "x1 = np.linspace(-3.0, 3.0, 50)\n",
    "y1 = np.linspace(-3.0, 3.0, 50)\n",
    "\n",
    "Y1, Y2 = np.meshgrid(x1, y1)\n",
    "\n",
    "t = 0\n",
    "\n",
    "u, v = np.zeros(Y1.shape), np.zeros(Y2.shape)\n",
    "\n",
    "NI, NJ = Y1.shape\n",
    "\n",
    "for i in range(NI):\n",
    "    for j in range(NJ):\n",
    "        x = Y1[i, j]\n",
    "        y = Y2[i, j]\n",
    "        yprime = f([x, y], t)\n",
    "        u[i,j] = yprime[0]\n",
    "        v[i,j] = yprime[1]"
   ]
  }
 ],
 "metadata": {
  "kernelspec": {
   "display_name": "base",
   "language": "python",
   "name": "python3"
  },
  "language_info": {
   "codemirror_mode": {
    "name": "ipython",
    "version": 3
   },
   "file_extension": ".py",
   "mimetype": "text/x-python",
   "name": "python",
   "nbconvert_exporter": "python",
   "pygments_lexer": "ipython3",
   "version": "3.7.6"
  },
  "orig_nbformat": 4
 },
 "nbformat": 4,
 "nbformat_minor": 2
}
