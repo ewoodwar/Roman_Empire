{
 "cells": [
  {
   "cell_type": "code",
   "execution_count": null,
   "metadata": {},
   "outputs": [],
   "source": [
    "from sympy import *\n",
    "import numpy as np\n",
    "import matplotlib.pyplot as plt\n",
    "\n",
    "t, r, k, a1, a2, m12, m21, m = symbols(\"t, r, k, a1, a2, m12, m21, m\")\n",
    "x = Function(\"x\")\n",
    "y = Function(\"y\")\n",
    "\n",
    "#Differential Equation 01, including:\n",
    "# r = positive growth rate\n",
    "# k1, k2 = Carrying Capacity\n",
    "# a1 = percentage decrease due to human induced Allee Effects in patch 1\n",
    "# a2 = percentage decrease due to environmental Allee Effects in patch 2\n",
    "# m12 = Migration from Patch 1 to 2\n",
    "Patch_1 = Eq(diff(x(t), t), r * ((x(t)/a1) - 1) * ((1 - (x(t)/k)) * x(t)) - (m12 * x(t))+ (m21*y(t)))\n",
    "\n",
    "Patch_2 = Eq(diff(y(t), t), r * ((y(t)/a2) - 1) * (1 - (y(t)/k)) * y(t) + (m12 * x(t))- (m21*y(t)))\n",
    "\n",
    "\n",
    "solution= dsolve([Patch_1, Patch_2], [x(t), y(t)])\n",
    "solution"
   ]
  },
  {
   "cell_type": "markdown",
   "metadata": {},
   "source": [
    "#Two Patch Coupled System of ODEs (symmetric migration)\n",
    "DS1 = r * ((x(t)/a1) - 1) * (1 - (x(t)/k)) * x(t) - m12 * x(t) + m21 * y(t)\n",
    "DS2 = r * ((y(t)/a2) - 1) * (1 - (y(t)/k)) * y(t) + m12 * x(t) - m21 * y(t)\n",
    "\n",
    "#Finding the Equilibrium Values\n",
    "Equilibrium= nonlinsolve([DS1,DS2], [x(t), y(t)])\n",
    "display(Equilibrium)\n",
    "\n",
    "eq_list = list(Equilibrium)\n",
    "print(eq_list)\n",
    "\n",
    "\n",
    "# This code only finds the 0,0 equlibrium, which is trivial"
   ]
  },
  {
   "cell_type": "code",
   "execution_count": null,
   "metadata": {},
   "outputs": [],
   "source": [
    "\n",
    "#Finding the Nullcline Polynomial- Regular System\n",
    "\n",
    "from sympy import *\n",
    "y_exp= (r * ((x(t)/a1) - 1) * (1 - (x(t)/k)) * x(t) - m12 * x(t))/(-m21)\n",
    "exp = r * ((y(t)/a2) - 1) * (1 - (y(t)/k)) * y(t) + m12 * x(t) - m21 * y(t)\n",
    "res_exp = exp.subs(y(t), y_exp) \n",
    "\n",
    "#Simplifying the expression\n",
    "res_exp_1 = simplify(res_exp)\n",
    "display(res_exp)\n",
    "display(res_exp_1)"
   ]
  },
  {
   "cell_type": "code",
   "execution_count": null,
   "metadata": {},
   "outputs": [],
   "source": [
    "#Finding the Nullcline Polynomial- Non dimensional system\n",
    "#r=1\n",
    "#k=1\n",
    "\n",
    "from sympy import *\n",
    "y_exp_1= ((((x(t)/a1) - 1) * (1 - x(t)) * x(t)) + m* x(t))/(-m)\n",
    "exp_1 = ((y(t)/a2) - 1) * (1 - y(t)) * y(t) + m * (x(t) - y(t))\n",
    "res_exp_1 = exp_1.subs(y(t), y_exp_1) \n",
    "\n",
    "#Simplifying the expression\n",
    "res_exp_2 = simplify(res_exp_1)\n",
    "res_exp_3= res_exp_2/x(t)\n",
    "\n",
    "display(res_exp_3)"
   ]
  },
  {
   "cell_type": "code",
   "execution_count": null,
   "metadata": {},
   "outputs": [],
   "source": [
    "#Finding the Zeros of the Nullcline Polynomial (in order to find equilibrium points)\n",
    "\n",
    "#expand\n",
    "exp_simp = expand(res_exp) #expanding into polynomial form so it fits into np.roots\n",
    "display(exp_simp)"
   ]
  },
  {
   "cell_type": "code",
   "execution_count": null,
   "metadata": {},
   "outputs": [],
   "source": [
    "#Finding the Zeros of the Nullcline Polynomial (in order to find equilibrium points)\n",
    "#Nondimensional system\n",
    "\n",
    "#expand\n",
    "exp_simp_2 = expand(res_exp_3) #expanding into polynomial form so it fits into np.roots\n",
    "#display(exp_simp_2)\n",
    "\n",
    "a=Poly(exp_simp_2,x(t))\n",
    "coe= a.all_coeffs()\n",
    "coe_1= np.array(coe)\n",
    "display(exp_simp_2)"
   ]
  },
  {
   "cell_type": "code",
   "execution_count": null,
   "metadata": {},
   "outputs": [],
   "source": []
  },
  {
   "cell_type": "code",
   "execution_count": null,
   "metadata": {},
   "outputs": [],
   "source": [
    "#Finding the roots of the polynomial\n",
    "a1 = float(input('Measure of Allee Effect in the first population, (a1<k)?'))\n",
    "a2 = float(input('Measure of Allee Effect in the second population (a2<k)?'))\n",
    "m = float(input('Migration rate from Patch 1 to Patch 2 (proportion))?'))\n",
    "\n",
    "\n",
    "y_exp_trial= ((((x(t)/0.5) - 1) * (1 - x(t)) * x(t)) + 0.5* x(t))/(-0.5)\n",
    "exp_trial = ((y(t)/0.5) - 1) * (1 - y(t)) * y(t) + 0.5 * (x(t) - y(t))\n",
    "res_exp_trial = exp_trial.subs(y(t), y_exp_trial) \n",
    "\n",
    "\n",
    "Equilib_pts = nroots(res_exp_trial)\n",
    "display(Equilib_pts)\n",
    "\n",
    "#This code displays the equilibrium points of any parameters you choose to include"
   ]
  },
  {
   "cell_type": "code",
   "execution_count": null,
   "metadata": {},
   "outputs": [],
   "source": [
    "#Finding the Jacobian \n",
    "Jacobian = Matrix(\n",
    "    [\n",
    "    [diff(DS1, x(t)), diff(DS1, y(t))], \n",
    "    [diff(DS2, x(t)), diff(DS2, y(t))]\n",
    "    ])\n",
    "Jacobian"
   ]
  },
  {
   "cell_type": "code",
   "execution_count": null,
   "metadata": {},
   "outputs": [],
   "source": [
    "#Jacobian matrix with (0,0) substituted in\n",
    "Jac_1 = simplify(Jacobian.subs({x(t) : eq_list[0][0], y(t) : eq_list[0][1]}))\n",
    "Jac_1"
   ]
  },
  {
   "cell_type": "code",
   "execution_count": null,
   "metadata": {},
   "outputs": [],
   "source": [
    "#Calculating the Jacobian for each of the equilibrium values. \n",
    "for i in eq_list: \n",
    "    Jac = simplify(Jacobian.subs({x(t) : i[0], y(t) : i[1]}))\n",
    "    display(Jac)\n",
    "    stabil= det(Jac)\n",
    "    display(stabil)"
   ]
  },
  {
   "cell_type": "code",
   "execution_count": null,
   "metadata": {},
   "outputs": [],
   "source": [
    "#Phase Plane Portraits \n",
    "\n",
    "\n",
    "def f(Y, t):\n",
    "    x, y = Y\n",
    "    return [((x/3) - 1) * (1 - x) * x + 0.4* (y-x), ((y/0.5) - 1) * (1 - y) * y + 0.5 * (x-y)]\n",
    "\n",
    "x1 = np.linspace(-3.0, 3.0, 50)\n",
    "y1 = np.linspace(-3.0, 3.0, 50)\n",
    "\n",
    "Y1, Y2 = np.meshgrid(x1, y1)\n",
    "\n",
    "t = 0\n",
    "\n",
    "u, v = np.zeros(Y1.shape), np.zeros(Y2.shape)\n",
    "\n",
    "NI, NJ = Y1.shape\n",
    "\n",
    "for i in range(NI):\n",
    "    for j in range(NJ):\n",
    "        x = Y1[i, j]\n",
    "        y = Y2[i, j]\n",
    "        yprime = f([x, y], t)\n",
    "        u[i,j] = yprime[0]\n",
    "        v[i,j] = yprime[1]"
   ]
  }
 ],
 "metadata": {
  "language_info": {
   "name": "python"
  },
  "orig_nbformat": 4
 },
 "nbformat": 4,
 "nbformat_minor": 2
}
